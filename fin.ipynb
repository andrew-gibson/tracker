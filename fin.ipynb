{
 "cells": [
  {
   "cell_type": "code",
   "execution_count": 35,
   "id": "c0cc0b44-35b4-4adc-aaa7-058e69cf79fc",
   "metadata": {},
   "outputs": [
    {
     "name": "stdout",
     "output_type": "stream",
     "text": [
      "Collection;9.1%\n",
      "Receipt;4.3%\n",
      "Management;5.5%\n",
      "Cleaning;6.6%\n",
      "Analysis;24.9%\n",
      "Dissemination;15.2%\n",
      "Other;34.4%\n"
     ]
    }
   ],
   "source": [
    "from dataclasses import dataclass\n",
    "from collections import defaultdict, namedtuple\n",
    "from openpyxl import load_workbook\n",
    "\n",
    "dmi = load_workbook(\"./fin/data_export_output_all_submissions_march-14_RC data management cleaned.xlsx\")[\"FTE\"]\n",
    "#dmi_data_slice = dmi[\"E2:O247\"]\n",
    "dmi_data_slice = dmi[\"P2:Z290\"]\n",
    "iop = load_workbook(\"./fin/IOP.xlsx\")[\"FUNDED TABLES\"]\n",
    "iop_slice = [row for row in iop if row[4].value == \"x\"]\n",
    "\n",
    "@dataclass\n",
    "class DMCycle:\n",
    "    name : str\n",
    "    dmi_index : int\n",
    "    centralize : float\n",
    "    iop_index : int = 0\n",
    "    allocation : float = 0 \n",
    "    dmi_fte_count : int = 0\n",
    "    iop_personnel : float = 0\n",
    "    iop_fte : float = 0\n",
    "    iop_OandM : float = 0\n",
    "\n",
    "    def totals(self):\n",
    "        return f'''{self.name};{self.iop_fte:,.0f}; {self.iop_personnel:,.0f}; { self.iop_OandM:,.0f} '''\n",
    "\n",
    "\n",
    "dmi_stages = [\n",
    "    (\"Collection\",0.1), \n",
    "    (\"Receipt\",1),\n",
    "    (\"Management\",1), \n",
    "    (\"Cleaning\",0.9), \n",
    "    (\"Analysis\",0.2), \n",
    "    (\"Dissemination\",0.4), \n",
    "    (\"Other\",0.15)\n",
    "]\n",
    "\n",
    "dmi_data = {\n",
    "    k[0] : DMCycle(name=k[0],centralize=k[1],dmi_index=x+4,iop_index=x+8)\n",
    "    for x,k in enumerate(dmi_stages)\n",
    "}\n",
    "\n",
    "total_dmi_FTE = sum( x[3].value for x in dmi_data_slice)/100\n",
    "for x,row in enumerate(dmi_data_slice):\n",
    "    system_allocation = row[3].value\n",
    "    total_allocation = sum( row[x.dmi_index].value for x in dmi_data.values())\n",
    "    if not system_allocation or not total_allocation:\n",
    "        continue\n",
    "    for step in dmi_data.values():\n",
    "        try:\n",
    "            step.dmi_fte_count += (row[step.dmi_index].value/total_allocation) * (system_allocation/100)\n",
    "        except:\n",
    "            print(x)\n",
    "\n",
    "for step in dmi_data.values():\n",
    "    step.allocation = step.dmi_fte_count / total_dmi_FTE\n",
    "    print(f\"{step.name};{step.allocation*100:.1f}%\")"
   ]
  },
  {
   "cell_type": "code",
   "execution_count": 23,
   "id": "9f162ef2-e76f-40a6-8aaf-73e1746ca90c",
   "metadata": {
    "scrolled": true
   },
   "outputs": [],
   "source": [
    "other = dmi_data[\"Other\"]\n",
    "@dataclass\n",
    "class Accumulator:\n",
    "    fte : float =0\n",
    "    sal : float = 0\n",
    "    om : float = 0\n",
    "iop_totals = Accumulator()\n",
    "branches = defaultdict(lambda : Accumulator())\n",
    "for x,row in enumerate(iop_slice):\n",
    "    steps = [x for x in dmi_data.values() if row[x.iop_index].value == \"x\" and x.name != \"other\"]\n",
    "    sal = row[14].value  or 0 \n",
    "    fte= row[19].value  or 0 \n",
    "    om =  row[15].value  or 0 \n",
    "    branch = row[1].value\n",
    "    match len(steps):\n",
    "        case 6:\n",
    "            for step in steps:\n",
    "                step.iop_personnel += (sal * step.allocation * step.centralize)\n",
    "                step.iop_fte += (fte* step.allocation * step.centralize) \n",
    "                step.iop_OandM += (om * step.allocation * step.centralize)\n",
    "                \n",
    "                branches[branch].sal += (sal * step.allocation * step.centralize)\n",
    "                branches[branch].fte += (fte* step.allocation * step.centralize)                \n",
    "                branches[branch].om += (om * step.allocation * step.centralize)\n",
    "        case 1 | 2 | 3 | 4 | 5:\n",
    "            rebase_total = sum(x.allocation for x in steps) + other.allocation\n",
    "            for step in steps:\n",
    "                step_allocation = step.allocation / rebase_total\n",
    "                \n",
    "                step.iop_personnel += (sal * step_allocation * step.centralize)\n",
    "                step.iop_fte += (fte * step_allocation * step.centralize)\n",
    "                step.iop_OandM += (om * step_allocation * step.centralize)\n",
    "\n",
    "                branches[branch].sal += (sal * step_allocation * step.centralize)\n",
    "                branches[branch].fte += (fte * step_allocation * step.centralize)\n",
    "                branches[branch].om += (om * step_allocation * step.centralize)\n",
    "        case 0:\n",
    "            continue\n",
    "    iop_totals.sal += sal\n",
    "    iop_totals.fte += fte\n",
    "    iop_totals.om += om\n",
    "    \n",
    "    other.iop_personnel += (sal * other.allocation * other.centralize)\n",
    "    other.iop_fte += (fte * other.allocation * other.centralize)\n",
    "    other.iop_OandM += (om * other.allocation * other.centralize)\n",
    "    branches[branch].sal += (sal * other.allocation * other.centralize)\n",
    "    branches[branch].fte += (fte * other.allocation * other.centralize)\n",
    "    branches[branch].om += (om * other.allocation * other.centralize)\n",
    "\n",
    "\n"
   ]
  },
  {
   "cell_type": "code",
   "execution_count": 33,
   "id": "e30960c0-8825-44cd-ab88-176cba7f1f52",
   "metadata": {},
   "outputs": [
    {
     "name": "stdout",
     "output_type": "stream",
     "text": [
      "Collection;6; 569,827; 346,947 \n",
      "Receipt;28; 2,885,502; 1,838,403 \n",
      "Management;43; 4,202,178; 2,964,439 \n",
      "Cleaning;40; 4,061,348; 2,737,918 \n",
      "Analysis;48; 4,764,863; 3,169,653 \n",
      "Dissemination;39; 3,804,222; 2,123,590 \n",
      "Other;51; 5,054,382; 3,159,018 \n",
      "Total;  255; 25,342,322; 16,339,969 \n",
      "total value of data related activties:; 986; 97,970,536;61,232,160\n",
      "EMB;21;1,939,061;447,982\n",
      "HPCDPB;46;4,561,913;4,929,533\n",
      "IDVPB;65;7,046,399;4,141,988\n",
      "NMLB;118;11,385,792;6,743,216\n",
      "HSROB;4;347,159;43,350\n",
      "SPB;1;61,997;33,899\n",
      "0.0\n",
      "0.0\n",
      "0.0\n"
     ]
    }
   ],
   "source": [
    "for step in dmi_data.values():\n",
    "    print(step.totals())\n",
    "\n",
    "print(f'''Total;  {sum(x.iop_fte for x in dmi_data.values()):,.0f}; {sum(x.iop_personnel for x in dmi_data.values()):,.0f}; {sum(x.iop_OandM for x in dmi_data.values()):,.0f} ''')\n",
    "print(f'''total value of data related activties:; {iop_totals.fte:,.0f}; {iop_totals.sal:,.0f};{iop_totals.om:,.0f}''')\n",
    "\n",
    "for branch in branches:\n",
    "    x = branches[branch]\n",
    "    print(f'''{branch};{x.fte:,.0f};{x.sal:,.0f};{x.om:,.0f}''')\n",
    "\n",
    "\n",
    "print(sum(branch.fte for branch in branches.values()) - sum(x.iop_fte for x in dmi_data.values()))\n",
    "print(sum(branch.sal for branch in branches.values()) - sum(x.iop_personnel for x in dmi_data.values()))\n",
    "print(sum(branch.om for branch in branches.values()) - sum(x.iop_OandM for x in dmi_data.values()))"
   ]
  },
  {
   "cell_type": "code",
   "execution_count": 128,
   "id": "2fbc704c-4442-48cc-994d-0ad5f9cb38c2",
   "metadata": {},
   "outputs": [
    {
     "data": {
      "text/plain": [
       "'250'"
      ]
     },
     "execution_count": 128,
     "metadata": {},
     "output_type": "execute_result"
    }
   ],
   "source": [
    "f\"{sum(x[1].fte for x in branches.items()):,.0f}\""
   ]
  },
  {
   "cell_type": "code",
   "execution_count": null,
   "id": "9ae525af-2ba2-404f-91a0-8908f1b25665",
   "metadata": {},
   "outputs": [],
   "source": []
  }
 ],
 "metadata": {
  "kernelspec": {
   "display_name": "Python 3 (ipykernel)",
   "language": "python",
   "name": "python3"
  },
  "language_info": {
   "codemirror_mode": {
    "name": "ipython",
    "version": 3
   },
   "file_extension": ".py",
   "mimetype": "text/x-python",
   "name": "python",
   "nbconvert_exporter": "python",
   "pygments_lexer": "ipython3",
   "version": "3.12.2"
  }
 },
 "nbformat": 4,
 "nbformat_minor": 5
}
